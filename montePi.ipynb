{
 "cells": [
  {
   "cell_type": "markdown",
   "metadata": {},
   "source": [
    "\"A Monte Carlo simulation\" from the \"Python programming in context, 2nd edition\" book."
   ]
  },
  {
   "cell_type": "code",
   "execution_count": 1,
   "metadata": {},
   "outputs": [],
   "source": [
    "def montePi(numDarts):\n",
    "\n",
    "    import random\n",
    "    import math\n",
    "\n",
    "    dartsInCircle = 0\n",
    "\n",
    "    for i in range(numDarts):\n",
    "        x = random.random()\n",
    "        y = random.random()\n",
    "\n",
    "        d = math.sqrt(x**2 + y**2)\n",
    "\n",
    "        if d<=1:\n",
    "            dartsInCircle = dartsInCircle + 1\n",
    "\n",
    "    pi = (dartsInCircle/numDarts) * 4\n",
    "\n",
    "    return pi"
   ]
  }
 ],
 "metadata": {
  "kernelspec": {
   "display_name": "Python 3.9.7",
   "language": "python",
   "name": "python3"
  },
  "language_info": {
   "codemirror_mode": {
    "name": "ipython",
    "version": 3
   },
   "file_extension": ".py",
   "mimetype": "text/x-python",
   "name": "python",
   "nbconvert_exporter": "python",
   "pygments_lexer": "ipython3",
   "version": "3.9.7"
  },
  "orig_nbformat": 4,
  "vscode": {
   "interpreter": {
    "hash": "5b1e4d98898239749502281569bd5ffdb28e1967a9c65293750900a4adab9200"
   }
  }
 },
 "nbformat": 4,
 "nbformat_minor": 2
}
